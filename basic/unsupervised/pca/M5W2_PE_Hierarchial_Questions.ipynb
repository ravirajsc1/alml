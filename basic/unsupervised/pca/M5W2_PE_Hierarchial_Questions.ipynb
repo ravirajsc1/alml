{
 "cells": [
  {
   "cell_type": "markdown",
   "metadata": {},
   "source": [
    "# Context:\n",
    "The data set has information about features of silhouette extracted from the images of different cars\n",
    "Four \"Corgie\" model vehicles were used for the experiment: a double decker bus, Cheverolet van, Saab 9000 and an Opel Manta 400 \n",
    "cars. This particular combination of vehicles was chosen with the expectation that the bus, van and either one of the cars \n",
    "would be readily distinguishable, but it would be more difficult to distinguish between the cars.\n",
    "\n",
    "Here let's apply Hierarchial Clustering"
   ]
  },
  {
   "cell_type": "markdown",
   "metadata": {},
   "source": [
    "# Q1. Import libraries and Read the dataset using function .dropna() - to avoid dealing with NAs"
   ]
  },
  {
   "cell_type": "code",
   "execution_count": 9,
   "metadata": {},
   "outputs": [
    {
     "data": {
      "text/plain": [
       "compactness                    0\n",
       "circularity                    0\n",
       "distance_circularity           0\n",
       "radius_ratio                   0\n",
       "pr.axis_aspect_ratio           0\n",
       "max.length_aspect_ratio        0\n",
       "scatter_ratio                  0\n",
       "elongatedness                  0\n",
       "pr.axis_rectangularity         0\n",
       "max.length_rectangularity      0\n",
       "scaled_variance                0\n",
       "scaled_variance.1              0\n",
       "scaled_radius_of_gyration      0\n",
       "scaled_radius_of_gyration.1    0\n",
       "skewness_about                 0\n",
       "skewness_about.1               0\n",
       "skewness_about.2               0\n",
       "hollows_ratio                  0\n",
       "class                          0\n",
       "dtype: int64"
      ]
     },
     "execution_count": 9,
     "metadata": {},
     "output_type": "execute_result"
    }
   ],
   "source": [
    "import pandas as pd\n",
    "import numpy as nm\n",
    "import matplotlib.pyplot as plt\n",
    "%matplotlib inline\n",
    "\n",
    "df=pd.read_csv('vehicle.csv').dropna()\n",
    "df.shape\n",
    "\n"
   ]
  },
  {
   "cell_type": "code",
   "execution_count": 10,
   "metadata": {},
   "outputs": [
    {
     "name": "stdout",
     "output_type": "stream",
     "text": [
      "<class 'pandas.core.frame.DataFrame'>\n",
      "Int64Index: 813 entries, 0 to 845\n",
      "Data columns (total 19 columns):\n",
      "compactness                    813 non-null int64\n",
      "circularity                    813 non-null float64\n",
      "distance_circularity           813 non-null float64\n",
      "radius_ratio                   813 non-null float64\n",
      "pr.axis_aspect_ratio           813 non-null float64\n",
      "max.length_aspect_ratio        813 non-null int64\n",
      "scatter_ratio                  813 non-null float64\n",
      "elongatedness                  813 non-null float64\n",
      "pr.axis_rectangularity         813 non-null float64\n",
      "max.length_rectangularity      813 non-null int64\n",
      "scaled_variance                813 non-null float64\n",
      "scaled_variance.1              813 non-null float64\n",
      "scaled_radius_of_gyration      813 non-null float64\n",
      "scaled_radius_of_gyration.1    813 non-null float64\n",
      "skewness_about                 813 non-null float64\n",
      "skewness_about.1               813 non-null float64\n",
      "skewness_about.2               813 non-null float64\n",
      "hollows_ratio                  813 non-null int64\n",
      "class                          813 non-null object\n",
      "dtypes: float64(14), int64(4), object(1)\n",
      "memory usage: 127.0+ KB\n"
     ]
    }
   ],
   "source": [
    "df.info()"
   ]
  },
  {
   "cell_type": "code",
   "execution_count": 11,
   "metadata": {},
   "outputs": [
    {
     "data": {
      "text/html": [
       "<div>\n",
       "<style scoped>\n",
       "    .dataframe tbody tr th:only-of-type {\n",
       "        vertical-align: middle;\n",
       "    }\n",
       "\n",
       "    .dataframe tbody tr th {\n",
       "        vertical-align: top;\n",
       "    }\n",
       "\n",
       "    .dataframe thead th {\n",
       "        text-align: right;\n",
       "    }\n",
       "</style>\n",
       "<table border=\"1\" class=\"dataframe\">\n",
       "  <thead>\n",
       "    <tr style=\"text-align: right;\">\n",
       "      <th></th>\n",
       "      <th>compactness</th>\n",
       "      <th>circularity</th>\n",
       "      <th>distance_circularity</th>\n",
       "      <th>radius_ratio</th>\n",
       "      <th>pr.axis_aspect_ratio</th>\n",
       "      <th>max.length_aspect_ratio</th>\n",
       "      <th>scatter_ratio</th>\n",
       "      <th>elongatedness</th>\n",
       "      <th>pr.axis_rectangularity</th>\n",
       "      <th>max.length_rectangularity</th>\n",
       "      <th>scaled_variance</th>\n",
       "      <th>scaled_variance.1</th>\n",
       "      <th>scaled_radius_of_gyration</th>\n",
       "      <th>scaled_radius_of_gyration.1</th>\n",
       "      <th>skewness_about</th>\n",
       "      <th>skewness_about.1</th>\n",
       "      <th>skewness_about.2</th>\n",
       "      <th>hollows_ratio</th>\n",
       "      <th>class</th>\n",
       "    </tr>\n",
       "  </thead>\n",
       "  <tbody>\n",
       "    <tr>\n",
       "      <td>0</td>\n",
       "      <td>95</td>\n",
       "      <td>48.0</td>\n",
       "      <td>83.0</td>\n",
       "      <td>178.0</td>\n",
       "      <td>72.0</td>\n",
       "      <td>10</td>\n",
       "      <td>162.0</td>\n",
       "      <td>42.0</td>\n",
       "      <td>20.0</td>\n",
       "      <td>159</td>\n",
       "      <td>176.0</td>\n",
       "      <td>379.0</td>\n",
       "      <td>184.0</td>\n",
       "      <td>70.0</td>\n",
       "      <td>6.0</td>\n",
       "      <td>16.0</td>\n",
       "      <td>187.0</td>\n",
       "      <td>197</td>\n",
       "      <td>van</td>\n",
       "    </tr>\n",
       "    <tr>\n",
       "      <td>1</td>\n",
       "      <td>91</td>\n",
       "      <td>41.0</td>\n",
       "      <td>84.0</td>\n",
       "      <td>141.0</td>\n",
       "      <td>57.0</td>\n",
       "      <td>9</td>\n",
       "      <td>149.0</td>\n",
       "      <td>45.0</td>\n",
       "      <td>19.0</td>\n",
       "      <td>143</td>\n",
       "      <td>170.0</td>\n",
       "      <td>330.0</td>\n",
       "      <td>158.0</td>\n",
       "      <td>72.0</td>\n",
       "      <td>9.0</td>\n",
       "      <td>14.0</td>\n",
       "      <td>189.0</td>\n",
       "      <td>199</td>\n",
       "      <td>van</td>\n",
       "    </tr>\n",
       "    <tr>\n",
       "      <td>2</td>\n",
       "      <td>104</td>\n",
       "      <td>50.0</td>\n",
       "      <td>106.0</td>\n",
       "      <td>209.0</td>\n",
       "      <td>66.0</td>\n",
       "      <td>10</td>\n",
       "      <td>207.0</td>\n",
       "      <td>32.0</td>\n",
       "      <td>23.0</td>\n",
       "      <td>158</td>\n",
       "      <td>223.0</td>\n",
       "      <td>635.0</td>\n",
       "      <td>220.0</td>\n",
       "      <td>73.0</td>\n",
       "      <td>14.0</td>\n",
       "      <td>9.0</td>\n",
       "      <td>188.0</td>\n",
       "      <td>196</td>\n",
       "      <td>car</td>\n",
       "    </tr>\n",
       "    <tr>\n",
       "      <td>3</td>\n",
       "      <td>93</td>\n",
       "      <td>41.0</td>\n",
       "      <td>82.0</td>\n",
       "      <td>159.0</td>\n",
       "      <td>63.0</td>\n",
       "      <td>9</td>\n",
       "      <td>144.0</td>\n",
       "      <td>46.0</td>\n",
       "      <td>19.0</td>\n",
       "      <td>143</td>\n",
       "      <td>160.0</td>\n",
       "      <td>309.0</td>\n",
       "      <td>127.0</td>\n",
       "      <td>63.0</td>\n",
       "      <td>6.0</td>\n",
       "      <td>10.0</td>\n",
       "      <td>199.0</td>\n",
       "      <td>207</td>\n",
       "      <td>van</td>\n",
       "    </tr>\n",
       "    <tr>\n",
       "      <td>4</td>\n",
       "      <td>85</td>\n",
       "      <td>44.0</td>\n",
       "      <td>70.0</td>\n",
       "      <td>205.0</td>\n",
       "      <td>103.0</td>\n",
       "      <td>52</td>\n",
       "      <td>149.0</td>\n",
       "      <td>45.0</td>\n",
       "      <td>19.0</td>\n",
       "      <td>144</td>\n",
       "      <td>241.0</td>\n",
       "      <td>325.0</td>\n",
       "      <td>188.0</td>\n",
       "      <td>127.0</td>\n",
       "      <td>9.0</td>\n",
       "      <td>11.0</td>\n",
       "      <td>180.0</td>\n",
       "      <td>183</td>\n",
       "      <td>bus</td>\n",
       "    </tr>\n",
       "  </tbody>\n",
       "</table>\n",
       "</div>"
      ],
      "text/plain": [
       "   compactness  circularity  distance_circularity  radius_ratio  \\\n",
       "0           95         48.0                  83.0         178.0   \n",
       "1           91         41.0                  84.0         141.0   \n",
       "2          104         50.0                 106.0         209.0   \n",
       "3           93         41.0                  82.0         159.0   \n",
       "4           85         44.0                  70.0         205.0   \n",
       "\n",
       "   pr.axis_aspect_ratio  max.length_aspect_ratio  scatter_ratio  \\\n",
       "0                  72.0                       10          162.0   \n",
       "1                  57.0                        9          149.0   \n",
       "2                  66.0                       10          207.0   \n",
       "3                  63.0                        9          144.0   \n",
       "4                 103.0                       52          149.0   \n",
       "\n",
       "   elongatedness  pr.axis_rectangularity  max.length_rectangularity  \\\n",
       "0           42.0                    20.0                        159   \n",
       "1           45.0                    19.0                        143   \n",
       "2           32.0                    23.0                        158   \n",
       "3           46.0                    19.0                        143   \n",
       "4           45.0                    19.0                        144   \n",
       "\n",
       "   scaled_variance  scaled_variance.1  scaled_radius_of_gyration  \\\n",
       "0            176.0              379.0                      184.0   \n",
       "1            170.0              330.0                      158.0   \n",
       "2            223.0              635.0                      220.0   \n",
       "3            160.0              309.0                      127.0   \n",
       "4            241.0              325.0                      188.0   \n",
       "\n",
       "   scaled_radius_of_gyration.1  skewness_about  skewness_about.1  \\\n",
       "0                         70.0             6.0              16.0   \n",
       "1                         72.0             9.0              14.0   \n",
       "2                         73.0            14.0               9.0   \n",
       "3                         63.0             6.0              10.0   \n",
       "4                        127.0             9.0              11.0   \n",
       "\n",
       "   skewness_about.2  hollows_ratio class  \n",
       "0             187.0            197   van  \n",
       "1             189.0            199   van  \n",
       "2             188.0            196   car  \n",
       "3             199.0            207   van  \n",
       "4             180.0            183   bus  "
      ]
     },
     "execution_count": 11,
     "metadata": {},
     "output_type": "execute_result"
    }
   ],
   "source": [
    "df.head()"
   ]
  },
  {
   "cell_type": "markdown",
   "metadata": {},
   "source": [
    "# Q2. Print/ Plot the dependent (categorical variable) and Check for any missing values in the data"
   ]
  },
  {
   "cell_type": "code",
   "execution_count": 13,
   "metadata": {},
   "outputs": [
    {
     "data": {
      "text/plain": [
       "car    413\n",
       "bus    205\n",
       "van    195\n",
       "Name: class, dtype: int64"
      ]
     },
     "execution_count": 13,
     "metadata": {},
     "output_type": "execute_result"
    }
   ],
   "source": [
    "df['class'].value_counts()"
   ]
  },
  {
   "cell_type": "code",
   "execution_count": 14,
   "metadata": {},
   "outputs": [
    {
     "data": {
      "text/plain": [
       "<matplotlib.axes._subplots.AxesSubplot at 0x1f43a208ac8>"
      ]
     },
     "execution_count": 14,
     "metadata": {},
     "output_type": "execute_result"
    },
    {
     "data": {
      "image/png": "[encoded data removed]",
      "text/plain": [
       "<Figure size 432x288 with 1 Axes>"
      ]
     },
     "metadata": {
      "needs_background": "light"
     },
     "output_type": "display_data"
    }
   ],
   "source": [
    "df['class'].value_counts().plot(kind=\"bar\")"
   ]
  },
  {
   "cell_type": "code",
   "execution_count": 17,
   "metadata": {},
   "outputs": [
    {
     "data": {
      "text/plain": [
       "<matplotlib.axes._subplots.AxesSubplot at 0x1f43da47a08>"
      ]
     },
     "execution_count": 17,
     "metadata": {},
     "output_type": "execute_result"
    },
    {
     "data": {
      "image/png": "[encoded data removed]",
      "text/plain": [
       "<Figure size 432x288 with 1 Axes>"
      ]
     },
     "metadata": {
      "needs_background": "light"
     },
     "output_type": "display_data"
    }
   ],
   "source": [
    "df['class'].value_counts().hist()"
   ]
  },
  {
   "cell_type": "code",
   "execution_count": 21,
   "metadata": {},
   "outputs": [
    {
     "data": {
      "text/plain": [
       "compactness                    0\n",
       "circularity                    0\n",
       "distance_circularity           0\n",
       "radius_ratio                   0\n",
       "pr.axis_aspect_ratio           0\n",
       "max.length_aspect_ratio        0\n",
       "scatter_ratio                  0\n",
       "elongatedness                  0\n",
       "pr.axis_rectangularity         0\n",
       "max.length_rectangularity      0\n",
       "scaled_variance                0\n",
       "scaled_variance.1              0\n",
       "scaled_radius_of_gyration      0\n",
       "scaled_radius_of_gyration.1    0\n",
       "skewness_about                 0\n",
       "skewness_about.1               0\n",
       "skewness_about.2               0\n",
       "hollows_ratio                  0\n",
       "class                          0\n",
       "dtype: int64"
      ]
     },
     "execution_count": 21,
     "metadata": {},
     "output_type": "execute_result"
    }
   ],
   "source": [
    "df.isna().sum()\n"
   ]
  },
  {
   "cell_type": "markdown",
   "metadata": {},
   "source": [
    "# Q3. Standardize the data"
   ]
  },
  {
   "cell_type": "code",
   "execution_count": 25,
   "metadata": {},
   "outputs": [
    {
     "data": {
      "text/plain": [
       "array([[ 0.16323063,  0.52040788,  0.06066872,  0.26497017,  1.2832543 ,\n",
       "         0.2997208 , -0.19851729,  0.12964799, -0.21715097,  0.76631152,\n",
       "        -0.39739727, -0.33901388,  0.30167634, -0.32119222, -0.07152328,\n",
       "         0.37128716, -0.3218087 ,  0.17183708],\n",
       "       [-0.32287376, -0.61912319,  0.12406675, -0.83639333, -0.59925336,\n",
       "         0.08578488, -0.59171992,  0.51433345, -0.60601383, -0.33746218,\n",
       "        -0.59003405, -0.61875406, -0.50297155, -0.0535046 ,  0.53842522,\n",
       "         0.14710858,  0.00340009,  0.44231829]])"
      ]
     },
     "execution_count": 25,
     "metadata": {},
     "output_type": "execute_result"
    }
   ],
   "source": [
    "dep_df=df.drop('class',axis=1)\n",
    "from scipy.stats import zscore\n",
    "\n",
    "scaled=dep_df.apply(zscore)\n",
    "scaled\n",
    "\n",
    "from sklearn.preprocessing import StandardScaler\n",
    "import numpy as np\n",
    "sc=StandardScaler()\n",
    "x_std=sc.fit_transform(dep_df)\n",
    "x_std[:2]"
   ]
  },
  {
   "cell_type": "markdown",
   "metadata": {},
   "source": [
    "# Q4. Create datasets using multivariate normal distribution to visually observe how the clusters are formed at the end\n",
    "(Use hierarchial clustering)"
   ]
  },
  {
   "cell_type": "code",
   "execution_count": 31,
   "metadata": {},
   "outputs": [],
   "source": [
    "np.random.seed(101)  # for repeatability of this dataset\n",
    "a = np.random.multivariate_normal([10, 0], [[3, 1], [1, 4]], size=[100,])\n",
    "b = np.random.multivariate_normal([0, 20], [[3, 1], [1, 4]], size=[50,])\n",
    "c = np.random.multivariate_normal([10, 20], [[3, 1], [1, 4]], size=[100,])"
   ]
  },
  {
   "cell_type": "code",
   "execution_count": 34,
   "metadata": {},
   "outputs": [
    {
     "name": "stdout",
     "output_type": "stream",
     "text": [
      "(250, 2)\n"
     ]
    }
   ],
   "source": [
    "X=np.concatenate((a,b,c),axis=0)\n",
    "\n",
    "print(X.shape) "
   ]
  },
  {
   "cell_type": "markdown",
   "metadata": {},
   "source": [
    "# Q5. Use scatter matrix to print all the 3 distributions"
   ]
  },
  {
   "cell_type": "code",
   "execution_count": 58,
   "metadata": {},
   "outputs": [
    {
     "data": {
      "image/png": "[encoded data removed]",
      "text/plain": [
       "<Figure size 432x288 with 1 Axes>"
      ]
     },
     "metadata": {
      "needs_background": "light"
     },
     "output_type": "display_data"
    }
   ],
   "source": [
    "plt.scatter(X[:,0], X[:,1])\n",
    "plt.show()"
   ]
  },
  {
   "cell_type": "markdown",
   "metadata": {},
   "source": [
    "# Q6. Find out the linkage matrix"
   ]
  },
  {
   "cell_type": "code",
   "execution_count": 41,
   "metadata": {},
   "outputs": [
    {
     "data": {
      "text/plain": [
       "(812, 4)"
      ]
     },
     "execution_count": 41,
     "metadata": {},
     "output_type": "execute_result"
    }
   ],
   "source": [
    "from scipy.cluster.hierarchy import dendrogram , linkage\n",
    "Z= linkage(X,'ward', metric='euclidean')\n",
    "Z.shape\n",
    "T= linkage(scaled,'ward', metric='euclidean')\n",
    "T.shape"
   ]
  },
  {
   "cell_type": "markdown",
   "metadata": {},
   "source": [
    "# Q7. Plot the dendrogram for the consolidated dataframe"
   ]
  },
  {
   "cell_type": "markdown",
   "metadata": {},
   "source": [
    "Recreate the dendrogram for last 12 merged clusters"
   ]
  },
  {
   "cell_type": "markdown",
   "metadata": {},
   "source": [
    "# Q8. From the truncated dendrogram, find out the optimal distance between clusters which u want to use an input for clustering data"
   ]
  },
  {
   "cell_type": "code",
   "execution_count": 40,
   "metadata": {},
   "outputs": [
    {
     "data": {
      "image/png": "[encoded data removed]",
      "text/plain": [
       "<Figure size 1800x720 with 1 Axes>"
      ]
     },
     "metadata": {
      "needs_background": "light"
     },
     "output_type": "display_data"
    }
   ],
   "source": [
    "plt.figure(figsize=(25,10))\n",
    "dendrogram(Z)\n",
    "plt.show()\n"
   ]
  },
  {
   "cell_type": "code",
   "execution_count": 42,
   "metadata": {},
   "outputs": [
    {
     "data": {
      "image/png": "[encoded data removed]",
      "text/plain": [
       "<Figure size 1800x720 with 1 Axes>"
      ]
     },
     "metadata": {
      "needs_background": "light"
     },
     "output_type": "display_data"
    }
   ],
   "source": [
    "plt.figure(figsize=(25,10))\n",
    "dendrogram(T)\n",
    "plt.show()"
   ]
  },
  {
   "cell_type": "code",
   "execution_count": 44,
   "metadata": {},
   "outputs": [
    {
     "data": {
      "image/png": "[encoded data removed]",
      "text/plain": [
       "<Figure size 432x288 with 1 Axes>"
      ]
     },
     "metadata": {
      "needs_background": "light"
     },
     "output_type": "display_data"
    }
   ],
   "source": [
    "dendrogram(\n",
    "    Z,\n",
    "    truncate_mode='lastp',  # show only the last p merged clusters\n",
    "    p=3,  # show only the last p merged clusters\n",
    ")\n",
    "plt.show()"
   ]
  },
  {
   "cell_type": "code",
   "execution_count": 45,
   "metadata": {},
   "outputs": [
    {
     "data": {
      "image/png": "[encoded data removed]",
      "text/plain": [
       "<Figure size 432x288 with 1 Axes>"
      ]
     },
     "metadata": {
      "needs_background": "light"
     },
     "output_type": "display_data"
    }
   ],
   "source": [
    "dendrogram(\n",
    "    T,\n",
    "    truncate_mode='lastp',  # show only the last p merged clusters\n",
    "    p=3,  # show only the last p merged clusters\n",
    ")\n",
    "plt.show()"
   ]
  },
  {
   "cell_type": "markdown",
   "metadata": {},
   "source": [
    "# Q9. Use this distance measure(max_d) and fcluster function to cluster the data into 3 different groups"
   ]
  },
  {
   "cell_type": "code",
   "execution_count": 47,
   "metadata": {},
   "outputs": [
    {
     "data": {
      "text/plain": [
       "array([4, 4, 2, 4, 1, 4, 4, 4, 4, 4, 4, 4, 4, 2, 3, 2, 2, 4, 3, 4, 4, 2,\n",
       "       4, 3, 2, 2, 3, 4, 4, 4, 2, 4, 3, 1, 2, 3, 2, 3, 4, 4, 2, 4, 4, 3,\n",
       "       4, 4, 3, 4, 2, 4, 2, 4, 2, 4, 2, 3, 2, 3, 3, 3, 2, 3, 2, 4, 2, 2,\n",
       "       4, 3, 4, 2, 4, 3, 4, 2, 4, 3, 4, 2, 4, 3, 2, 3, 2, 4, 2, 4, 3, 2,\n",
       "       3, 3, 2, 3, 1, 4, 4, 4, 2, 2, 4, 3, 2, 4, 4, 3, 3, 4, 4, 2, 2, 4,\n",
       "       3, 4, 4, 4, 4, 4, 3, 4, 4, 2, 2, 4, 4, 3, 2, 1, 4, 4, 3, 4, 4, 2,\n",
       "       3, 4, 2, 4, 4, 4, 4, 2, 2, 4, 2, 4, 2, 4, 4, 4, 3, 2, 4, 4, 2, 2,\n",
       "       4, 2, 3, 3, 2, 2, 4, 2, 4, 4, 4, 4, 3, 2, 3, 4, 3, 2, 2, 4, 4, 2,\n",
       "       4, 4, 4, 2, 4, 3, 2, 3, 3, 3, 4, 4, 2, 2, 4, 4, 4, 3, 2, 4, 4, 4,\n",
       "       2, 4, 3, 2, 4, 4, 2, 4, 3, 3, 4, 2, 4, 2, 3, 3, 3, 3, 2, 4, 4, 4,\n",
       "       2, 3, 4, 4, 3, 2, 4, 3, 4, 4, 2, 3, 2, 4, 4, 4, 2, 4, 4, 2, 2, 3,\n",
       "       4, 4, 4, 2, 3, 4, 4, 3, 3, 2, 4, 2, 4, 3, 3, 2, 4, 2, 3, 3, 2, 4,\n",
       "       4, 2, 3, 4, 1, 4, 4, 2, 4, 2, 3, 4, 4, 2, 4, 4, 4, 3, 4, 2, 2, 2,\n",
       "       4, 4, 4, 2, 3, 3, 4, 2, 3, 2, 2, 3, 2, 4, 3, 4, 4, 4, 4, 2, 2, 3,\n",
       "       2, 2, 4, 2, 4, 4, 4, 3, 3, 2, 2, 2, 4, 4, 4, 2, 3, 4, 3, 4, 2, 4,\n",
       "       2, 4, 2, 2, 2, 4, 4, 3, 2, 4, 3, 3, 4, 2, 4, 4, 3, 2, 2, 3, 3, 2,\n",
       "       3, 2, 3, 2, 4, 4, 2, 4, 1, 2, 3, 4, 4, 4, 2, 4, 4, 4, 4, 2, 4, 2,\n",
       "       4, 2, 4, 3, 4, 4, 4, 4, 3, 3, 4, 4, 2, 4, 4, 3, 3, 2, 4, 3, 2, 4,\n",
       "       2, 4, 2, 4, 2, 2, 3, 3, 2, 4, 3, 3, 4, 2, 2, 4, 4, 2, 2, 4, 2, 2,\n",
       "       2, 4, 4, 4, 4, 4, 2, 3, 3, 4, 2, 2, 4, 2, 4, 3, 4, 3, 3, 2, 4, 4,\n",
       "       2, 2, 2, 3, 2, 2, 4, 2, 3, 2, 2, 4, 4, 4, 3, 2, 4, 3, 2, 2, 4, 3,\n",
       "       2, 2, 4, 4, 3, 2, 2, 2, 3, 3, 2, 2, 2, 4, 4, 2, 3, 4, 2, 4, 4, 3,\n",
       "       4, 2, 3, 4, 4, 4, 1, 2, 4, 2, 2, 4, 3, 4, 2, 2, 3, 3, 4, 2, 4, 2,\n",
       "       2, 4, 4, 4, 4, 4, 4, 3, 4, 4, 2, 3, 3, 4, 3, 2, 4, 2, 3, 3, 2, 2,\n",
       "       4, 2, 4, 4, 4, 2, 4, 3, 4, 2, 4, 4, 4, 2, 2, 2, 2, 4, 3, 3, 4, 2,\n",
       "       2, 2, 4, 2, 3, 4, 2, 3, 3, 3, 4, 3, 2, 4, 4, 2, 4, 4, 4, 2, 4, 4,\n",
       "       2, 4, 4, 4, 3, 2, 4, 3, 4, 3, 4, 4, 3, 3, 2, 2, 4, 4, 2, 4, 2, 4,\n",
       "       4, 4, 4, 3, 2, 3, 2, 3, 3, 4, 3, 4, 2, 2, 3, 2, 2, 4, 3, 4, 3, 2,\n",
       "       4, 2, 3, 4, 2, 4, 3, 4, 4, 4, 2, 4, 2, 3, 4, 4, 4, 2, 2, 4, 3, 2,\n",
       "       4, 2, 4, 4, 2, 3, 2, 3, 4, 4, 4, 4, 2, 4, 3, 4, 2, 3, 2, 2, 4, 2,\n",
       "       4, 2, 3, 4, 4, 3, 4, 2, 2, 4, 4, 2, 2, 1, 4, 4, 4, 2, 2, 2, 2, 4,\n",
       "       2, 2, 4, 2, 2, 4, 2, 4, 2, 4, 4, 2, 4, 3, 2, 2, 2, 4, 2, 3, 3, 2,\n",
       "       2, 2, 4, 2, 4, 4, 2, 4, 3, 4, 3, 4, 2, 4, 3, 4, 4, 4, 4, 2, 4, 3,\n",
       "       4, 2, 2, 4, 2, 2, 3, 4, 4, 2, 4, 3, 2, 2, 3, 4, 4, 2, 2, 2, 3, 2,\n",
       "       4, 2, 2, 3, 3, 2, 4, 2, 4, 3, 4, 2, 2, 4, 3, 4, 2, 2, 4, 4, 3, 4,\n",
       "       4, 2, 3, 4, 2, 3, 3, 2, 3, 4, 4, 3, 4, 4, 2, 2, 2, 3, 2, 4, 2, 2,\n",
       "       4, 2, 2, 4, 4, 4, 4, 2, 4, 3, 2, 4, 4, 4, 4, 4, 4, 4, 2, 4, 3],\n",
       "      dtype=int32)"
      ]
     },
     "execution_count": 47,
     "metadata": {},
     "output_type": "execute_result"
    }
   ],
   "source": [
    "max_d1=50\n",
    "max_d2=40\n",
    "from scipy.cluster.hierarchy import fcluster\n",
    "clusters1 = fcluster(Z, max_d1, criterion='distance')\n",
    "clusters1\n",
    "clusters2 = fcluster(T, max_d2, criterion='distance')\n",
    "clusters2"
   ]
  },
  {
   "cell_type": "markdown",
   "metadata": {},
   "source": [
    "# Q10. Use matplotlib to visually observe the clusters in 2D space"
   ]
  },
  {
   "cell_type": "code",
   "execution_count": 59,
   "metadata": {},
   "outputs": [
    {
     "data": {
      "image/png": "[encoded data removed]",
      "text/plain": [
       "<Figure size 432x288 with 1 Axes>"
      ]
     },
     "metadata": {
      "needs_background": "light"
     },
     "output_type": "display_data"
    }
   ],
   "source": [
    "#### plt.figure(figsize=(10, 8))\n",
    "plt.scatter(X[:,0], X[:,1], c=clusters)  # plot points with cluster dependent colors\n",
    "plt.show()"
   ]
  },
  {
   "cell_type": "code",
   "execution_count": null,
   "metadata": {},
   "outputs": [],
   "source": []
  }
 ],
 "metadata": {
  "kernelspec": {
   "display_name": "Python 3",
   "language": "python",
   "name": "python3"
  },
  "language_info": {
   "codemirror_mode": {
    "name": "ipython",
    "version": 3
   },
   "file_extension": ".py",
   "mimetype": "text/x-python",
   "name": "python",
   "nbconvert_exporter": "python",
   "pygments_lexer": "ipython3",
   "version": "3.7.4"
  }
 },
 "nbformat": 4,
 "nbformat_minor": 2
}
