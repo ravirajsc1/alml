{
 "cells": [
  {
   "cell_type": "markdown",
   "metadata": {
    "_cell_guid": "608e43e3-8699-4299-9d18-9e9a6a3dd9bf",
    "_uuid": "434ffd54c774edd4e8b851ab0a4b6675425e46da",
    "colab_type": "text",
    "id": "uKI0xSuT9In5"
   },
   "source": [
    "# Siamese Neural Networks\n",
    "Recognize images of icebergs from images of ships. \n",
    "These images were taken from space with a Sentinel-4 satellite. The goal was to create the most accurate neural network to differentiate them. However, neural networks usually only work well with A LOT of data, and I constrained you guys to 1000 examples to train on. That seems like a lot, but a CONVENTIONAL neural network needs more data. However, we are going to make a special kind of neural network: *Siamese Network*. This special network is used for face recognition and few-shot learning(learning from few examples). Let's get started by importing the usual liraries:"
   ]
  },
  {
   "cell_type": "markdown",
   "metadata": {
    "_cell_guid": "adbffb0a-1784-4595-b3f2-2ea930abc31f",
    "_uuid": "b9200b733a896e4b6f261122fe9134c00955cc91",
    "colab_type": "text",
    "id": "wKB3dzbP9IoD"
   },
   "source": [
    "## Load the Data\n"
   ]
  },
  {
   "cell_type": "code",
   "execution_count": 0,
   "metadata": {
    "_cell_guid": "79c7e3d0-c299-4dcb-8224-4455121ee9b0",
    "_uuid": "d629ff2d2480ee46fbb7e2d37f6b5fab8052498a",
    "colab": {},
    "colab_type": "code",
    "id": "xZIhfzpE9IoE",
    "outputId": "e49661e6-94da-4ec3-e938-beb412cd545b"
   },
   "outputs": [
    {
     "name": "stdout",
     "output_type": "stream",
     "text": [
      "We have 3113 examples to work with\n"
     ]
    }
   ],
   "source": [
    "npz = np.load('input_data.npz')\n",
    "X_train = npz['X_train']\n",
    "Y_train = npz['Y_train']\n",
    "del npz\n",
    "print ('We have {} examples to work with'.format(Y_train.shape[0]-1000))"
   ]
  },
  {
   "cell_type": "markdown",
   "metadata": {
    "_cell_guid": "ed28bc84-1a8a-472f-98ae-9553fe6d1097",
    "_uuid": "b2e2306b8b16ae7f4f9b63249d1f2ff6e29559d3",
    "colab_type": "text",
    "id": "3gaTNPcR9IoL"
   },
   "source": [
    "## Check the data\n",
    "\n",
    "Load some of the images to observe how your data look like."
   ]
  },
  {
   "cell_type": "code",
   "execution_count": 0,
   "metadata": {
    "colab": {},
    "colab_type": "code",
    "id": "ZB74dgN69IoN"
   },
   "outputs": [],
   "source": []
  },
  {
   "cell_type": "markdown",
   "metadata": {
    "colab_type": "text",
    "id": "QyI3_gdn9IoT"
   },
   "source": [
    "# Creating the structure of Siamese Network"
   ]
  },
  {
   "cell_type": "code",
   "execution_count": 0,
   "metadata": {
    "colab": {},
    "colab_type": "code",
    "id": "oPSTTGc89WqH"
   },
   "outputs": [],
   "source": []
  },
  {
   "cell_type": "markdown",
   "metadata": {
    "colab_type": "text",
    "id": "xgaBtzv39IoV"
   },
   "source": [
    "# Create two Inputs for each image - left_input and right_input\n",
    "Hint - use Input Function in tensorlow.keras and keep the shape to be 75,75,3"
   ]
  },
  {
   "cell_type": "code",
   "execution_count": 0,
   "metadata": {
    "colab": {},
    "colab_type": "code",
    "id": "I9pNZeNV9IoW"
   },
   "outputs": [],
   "source": []
  },
  {
   "cell_type": "markdown",
   "metadata": {
    "colab_type": "text",
    "id": "-8f7UDm59Iob"
   },
   "source": [
    "# Create a base Network in which both images will go through individually.\n",
    "\n",
    "Hint - Use Sequential Model in tensorflow.keras with convolution layers, Maxpooling Layers, Flatten Layer and Denser Layer with appropriate activation functions.\n",
    "Name the network as base_network"
   ]
  },
  {
   "cell_type": "code",
   "execution_count": 0,
   "metadata": {
    "colab": {},
    "colab_type": "code",
    "id": "l6_uDCAz9Iod"
   },
   "outputs": [],
   "source": []
  },
  {
   "cell_type": "code",
   "execution_count": 0,
   "metadata": {
    "colab": {},
    "colab_type": "code",
    "id": "x0WlPwyK9Ioj"
   },
   "outputs": [],
   "source": []
  },
  {
   "cell_type": "markdown",
   "metadata": {
    "colab_type": "text",
    "id": "68tYLD709Iop"
   },
   "source": [
    "# Process the left and right inputs to the same Base Network(base_network)"
   ]
  },
  {
   "cell_type": "code",
   "execution_count": 0,
   "metadata": {
    "colab": {},
    "colab_type": "code",
    "id": "2LhND3xz9Iop"
   },
   "outputs": [],
   "source": []
  },
  {
   "cell_type": "code",
   "execution_count": 0,
   "metadata": {
    "colab": {},
    "colab_type": "code",
    "id": "w0GrGY1u9Iot"
   },
   "outputs": [],
   "source": []
  },
  {
   "cell_type": "markdown",
   "metadata": {
    "colab_type": "text",
    "id": "4VzFoon69Ioy"
   },
   "source": [
    "# Get the L1 Distance layer between the 2 processed encodings (processed_a and processed_b)\n",
    "Hint - You can use Lambda function for this."
   ]
  },
  {
   "cell_type": "code",
   "execution_count": 0,
   "metadata": {
    "colab": {},
    "colab_type": "code",
    "id": "cKLvszNj9Ioz"
   },
   "outputs": [],
   "source": []
  },
  {
   "cell_type": "code",
   "execution_count": 0,
   "metadata": {
    "colab": {},
    "colab_type": "code",
    "id": "Wp_Mkihy9Io4"
   },
   "outputs": [],
   "source": []
  },
  {
   "cell_type": "markdown",
   "metadata": {
    "colab_type": "text",
    "id": "gyTJ7FJD9Io8"
   },
   "source": [
    "# Add the prediction layer in the end and create the Siamese Network using Model function."
   ]
  },
  {
   "cell_type": "code",
   "execution_count": 0,
   "metadata": {
    "colab": {},
    "colab_type": "code",
    "id": "WGSKGB8Z9Io9"
   },
   "outputs": [],
   "source": []
  },
  {
   "cell_type": "markdown",
   "metadata": {
    "colab_type": "text",
    "id": "mfwUJN9S9IpD"
   },
   "source": [
    "# Define the Optimizer Adam and Compile the Siamese Model."
   ]
  },
  {
   "cell_type": "code",
   "execution_count": 0,
   "metadata": {
    "colab": {},
    "colab_type": "code",
    "id": "4EQ38sQ09IpE"
   },
   "outputs": [],
   "source": []
  },
  {
   "cell_type": "markdown",
   "metadata": {
    "_cell_guid": "dbba8e74-6b9c-4c84-96ed-55137265280b",
    "_uuid": "28e3843cae1a192bb14eb04cc1fe1705ef69f405",
    "colab_type": "text",
    "id": "761bGSIH9IpI"
   },
   "source": [
    "# Show the Summary of your Siamese Network"
   ]
  },
  {
   "cell_type": "code",
   "execution_count": 0,
   "metadata": {
    "colab": {},
    "colab_type": "code",
    "id": "tYTTUVmm9IpJ"
   },
   "outputs": [],
   "source": []
  },
  {
   "cell_type": "markdown",
   "metadata": {
    "colab_type": "text",
    "id": "RgEM94DU9IpN"
   },
   "source": [
    "# Creating the Pair of Images to train on"
   ]
  },
  {
   "cell_type": "markdown",
   "metadata": {
    "_cell_guid": "7080234f-01f4-4df1-88a7-459746335c50",
    "_uuid": "4553890c8130dc76076252a09290497a4afc27e6",
    "colab_type": "text",
    "id": "rI8VjP_I9IpP"
   },
   "source": [
    "It's not time to train though. We still have to create pairs of images to train on. There will be Positive(the same class) or Negative(different classes) for outputs. Let's construct this dataset. It is recommended that there are equal amounts positive and negative."
   ]
  },
  {
   "cell_type": "code",
   "execution_count": 0,
   "metadata": {
    "_cell_guid": "32cb30db-144d-4f93-af05-6cb9a697c084",
    "_uuid": "09a3e9d488acd34e99912c5f01474029e77637f5",
    "colab": {},
    "colab_type": "code",
    "id": "5_c17PF09IpQ"
   },
   "outputs": [],
   "source": [
    "# First let's separate the dataset from 1 matrix to a list of matricies\n",
    "image_list = np.split(X_train[:1000],1000)\n",
    "label_list = np.split(Y_train[:1000],1000)\n",
    "\n",
    "left_input = []\n",
    "right_input = []\n",
    "targets = []\n",
    "\n",
    "#Number of pairs per image\n",
    "pairs = 5\n",
    "#Let's create the new dataset to train on\n",
    "for i in range(len(label_list)):\n",
    "    for _ in range(pairs):\n",
    "        compare_to = i\n",
    "        while compare_to == i: #Make sure it's not comparing to itself\n",
    "            compare_to = random.randint(0,999)\n",
    "        left_input.append(image_list[i])\n",
    "        right_input.append(image_list[compare_to])\n",
    "        if label_list[i] == label_list[compare_to]:# They are the same\n",
    "            targets.append(1.)\n",
    "        else:# Not the same\n",
    "            targets.append(0.)\n",
    "            \n",
    "left_input = np.squeeze(np.array(left_input))\n",
    "right_input = np.squeeze(np.array(right_input))\n",
    "targets = np.squeeze(np.array(targets))\n",
    "\n",
    "iceimage = X_train[101]\n",
    "test_left = []\n",
    "test_right = []\n",
    "test_targets = []\n",
    "\n",
    "for i in range(Y_train.shape[0]-1000):\n",
    "    test_left.append(iceimage)\n",
    "    test_right.append(X_train[i+1000])\n",
    "    test_targets.append(Y_train[i+1000])\n",
    "\n",
    "test_left = np.squeeze(np.array(test_left))\n",
    "test_right = np.squeeze(np.array(test_right))\n",
    "test_targets = np.squeeze(np.array(test_targets))"
   ]
  },
  {
   "cell_type": "markdown",
   "metadata": {
    "colab_type": "text",
    "id": "mQ7tHxMO9IpV"
   },
   "source": [
    "Now we have a lot more examples.\n",
    "Now we have pairs x 1000 examples to train the network on. \n",
    "Each side will have an input of an image and the output will be one if they are the same and zero if not."
   ]
  },
  {
   "cell_type": "markdown",
   "metadata": {
    "colab_type": "text",
    "id": "dO-G2l1X9IpW"
   },
   "source": [
    "# Train the Siamese train on left and right input image pairs created and validate it by test pairs."
   ]
  },
  {
   "cell_type": "code",
   "execution_count": 0,
   "metadata": {
    "colab": {},
    "colab_type": "code",
    "id": "uIqz6H809IpX"
   },
   "outputs": [],
   "source": []
  },
  {
   "cell_type": "code",
   "execution_count": 0,
   "metadata": {
    "colab": {},
    "colab_type": "code",
    "id": "IMeYZuxJ9Ipa"
   },
   "outputs": [],
   "source": []
  },
  {
   "cell_type": "code",
   "execution_count": 0,
   "metadata": {
    "_uuid": "e572afcaaf7dc8632d813031ebd828d9eec0f9aa",
    "colab": {},
    "colab_type": "code",
    "id": "rj3Xv0rz9Ipe"
   },
   "outputs": [],
   "source": []
  },
  {
   "cell_type": "code",
   "execution_count": 0,
   "metadata": {
    "colab": {},
    "colab_type": "code",
    "id": "KgRFj8nX9Iph"
   },
   "outputs": [],
   "source": []
  },
  {
   "cell_type": "code",
   "execution_count": 0,
   "metadata": {
    "colab": {},
    "colab_type": "code",
    "id": "GKmiNfUU9Ipl"
   },
   "outputs": [],
   "source": []
  }
 ],
 "metadata": {
  "colab": {
   "name": "siamese-nn-recognize icebergs and ships-questions.ipynb",
   "provenance": []
  },
  "kernelspec": {
   "display_name": "Python 3",
   "language": "python",
   "name": "python3"
  },
  "language_info": {
   "codemirror_mode": {
    "name": "ipython",
    "version": 3
   },
   "file_extension": ".py",
   "mimetype": "text/x-python",
   "name": "python",
   "nbconvert_exporter": "python",
   "pygments_lexer": "ipython3",
   "version": "3.7.4"
  }
 },
 "nbformat": 4,
 "nbformat_minor": 1
}
